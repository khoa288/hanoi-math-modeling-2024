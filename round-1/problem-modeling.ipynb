{
  "cells": [
    {
      "cell_type": "markdown",
      "metadata": {},
      "source": [
        "# I. Setup"
      ]
    },
    {
      "cell_type": "code",
      "execution_count": null,
      "metadata": {
        "colab": {
          "base_uri": "https://localhost:8080/"
        },
        "id": "yrH_RKnMUT4Z",
        "outputId": "5f12da97-89b3-4836-a089-db0c7353c71c"
      },
      "outputs": [],
      "source": [
        "%pip install ortools\n",
        "%pip install pandas\n",
        "%pip install numpy"
      ]
    },
    {
      "cell_type": "code",
      "execution_count": null,
      "metadata": {},
      "outputs": [],
      "source": [
        "from ortools.sat.python import cp_model\n",
        "import pandas as pd\n",
        "import numpy as np"
      ]
    },
    {
      "cell_type": "markdown",
      "metadata": {},
      "source": [
        "### Model selection: 'strict' or 'regulated'\n",
        "### Dataset: 'data.csv' or 'non-iid-data.csv'\n"
      ]
    },
    {
      "cell_type": "code",
      "execution_count": 3,
      "metadata": {},
      "outputs": [],
      "source": [
        "model = 'strict'\n",
        "data_file = 'data.csv'"
      ]
    },
    {
      "cell_type": "markdown",
      "metadata": {},
      "source": [
        "# II. Data Preprocessing"
      ]
    },
    {
      "cell_type": "markdown",
      "metadata": {},
      "source": [
        "Let $T_1, T_2, T_3$ respectively be sets of employees of types **Tier I Doctor**, **Tier II Doctor**, and **Nurses**; $D_1, D_2, D_3, D_4$ respectively be sets of employees in departments **Internal**, **External**, **Emergency** and **Clinical**; and $S$ be set of employees which are **Seniors**."
      ]
    },
    {
      "cell_type": "code",
      "execution_count": 4,
      "metadata": {},
      "outputs": [],
      "source": [
        "# Read the data from the CSV file\n",
        "data = pd.read_csv(data_file)\n",
        "\n",
        "# Map for departments and types\n",
        "department_map = {\"Internal\": 1, \"External\": 2, \"Emergency\": 3, \"Clinical\": 4}\n",
        "type_map = {\"Tier I Doctor\": 1, \"Tier II Doctor\": 2, \"Nurse\": 3}\n",
        "\n",
        "# Create hospital list from data\n",
        "hospital = []\n",
        "for index, row in data.iterrows():\n",
        "    hospital.append((row['Tên'], row['Điểm thâm niên'], row['Khoa'], row['Loại']))\n",
        "\n",
        "# Calculate the threshold to be considered `senior\n",
        "senior_threshold = int(np.ceil(np.percentile(data['Điểm thâm niên'], 75)))\n",
        "\n",
        "# Initialize lists for different groups\n",
        "T1 = []\n",
        "T2 = []\n",
        "T3 = []\n",
        "D1 = []\n",
        "D2 = []\n",
        "D3 = []\n",
        "D4 = []\n",
        "S = []\n",
        "\n",
        "# Populate the lists based on conditions\n",
        "for i, h in enumerate(hospital):\n",
        "    if h[3] == 1:\n",
        "        T1.append(i)\n",
        "    elif h[3] == 2:\n",
        "        T2.append(i)\n",
        "    elif h[3] == 3:\n",
        "        T3.append(i)\n",
        "    \n",
        "    if h[2] == 1:\n",
        "        D1.append(i)\n",
        "    elif h[2] == 2:\n",
        "        D2.append(i)\n",
        "    elif h[2] == 3:\n",
        "        D3.append(i)\n",
        "    elif h[2] == 4:\n",
        "        D4.append(i)\n",
        "    \n",
        "    if h[1] >= senior_threshold:\n",
        "        S.append(i)\n"
      ]
    },
    {
      "cell_type": "markdown",
      "metadata": {
        "id": "CmSufW1KUT4g"
      },
      "source": [
        "# III. Problem Modeling"
      ]
    },
    {
      "cell_type": "markdown",
      "metadata": {
        "id": "4oDCILduUT4g"
      },
      "source": [
        "## A. Model"
      ]
    },
    {
      "cell_type": "markdown",
      "metadata": {
        "id": "R_WpNHeAUT4g"
      },
      "source": [
        "Let $X_{i, j}$ be a decision variable which is set to $1$ if employee at index $i$ works on shift $j$."
      ]
    },
    {
      "cell_type": "code",
      "execution_count": 5,
      "metadata": {
        "id": "0vENv6upUT4g"
      },
      "outputs": [],
      "source": [
        "# Number of hospitals and shifts\n",
        "num_hospital = len(hospital)\n",
        "num_shifts = 61\n",
        "\n",
        "# Initialize the solver\n",
        "solver = cp_model.CpModel()\n",
        "\n",
        "X = {}\n",
        "for i in range(num_hospital):\n",
        "    for j in range(num_shifts):\n",
        "        X[i, j] = solver.NewIntVar(0, 1, f'X_{i}_{j}')"
      ]
    },
    {
      "cell_type": "markdown",
      "metadata": {
        "id": "mymcrZW8UT4g"
      },
      "source": [
        "### i. Hard constraint"
      ]
    },
    {
      "cell_type": "markdown",
      "metadata": {
        "id": "dVXDectGUT4g"
      },
      "source": [
        "The hard constraint can be describe as\n",
        "$$\\sum_{i \\in T_1} X_{i, j} = 1, \\ \\sum_{i \\in T_2} X_{i, j} = 1, \\ \\sum_{i \\in T_3} X_{i, j} = 2,\\ \\forall j$$"
      ]
    },
    {
      "cell_type": "code",
      "execution_count": 6,
      "metadata": {
        "id": "zhkOZB2mUT4g"
      },
      "outputs": [],
      "source": [
        "for j in range(num_shifts):\n",
        "    solver.Add(sum((X[i, j]) for i in T1) == 1)\n",
        "    solver.Add(sum((X[i, j]) for i in T2) == 1)\n",
        "    solver.Add(sum((X[i, j]) for i in T3) == 2)"
      ]
    },
    {
      "cell_type": "markdown",
      "metadata": {
        "id": "wypWI6KSUT4g"
      },
      "source": [
        "### ii. Soft constraints"
      ]
    },
    {
      "cell_type": "markdown",
      "metadata": {
        "id": "CNyBUovCUT4g"
      },
      "source": [
        "For the first soft constraint, which is each shift should have a variety of departments, we have\n",
        "$$\\sum_{i \\in D_1} X_{i, j} = 1, \\ \\sum_{i \\in D_2} X_{i, j} = 1, \\ \\sum_{i \\in D_3} X_{i, j} = 1, \\ \\sum_{i \\in D_4} X_{i, j} = 1,\\ \\forall j$$"
      ]
    },
    {
      "cell_type": "code",
      "execution_count": 7,
      "metadata": {
        "id": "AHA7xDFMUT4g"
      },
      "outputs": [],
      "source": [
        "if model == 'strict':\n",
        "    for j in range(num_shifts):\n",
        "        solver.Add(sum(X[i, j] for i in D1) == 1)\n",
        "        solver.Add(sum(X[i, j] for i in D2) == 1)\n",
        "        solver.Add(sum(X[i, j] for i in D3) == 1)\n",
        "        solver.Add(sum(X[i, j] for i in D4) == 1)"
      ]
    },
    {
      "cell_type": "markdown",
      "metadata": {
        "id": "KBs0hK4rUT4g"
      },
      "source": [
        "If in case we want to harmonize the number of total departments and the fair distribution of shifts per person, we can adjust our above constraint like as below. We have chosen departments $3$ and $4$ since it has the most employess."
      ]
    },
    {
      "cell_type": "code",
      "execution_count": 8,
      "metadata": {
        "id": "UrqzhNNvUT4h"
      },
      "outputs": [],
      "source": [
        "if model == 'regulated':\n",
        "    for j in range(num_shifts):\n",
        "        solver.Add(sum(X[i, j] for i in D4) == 1)\n",
        "        solver.Add(sum(X[i, j] for i in D3) == 1)"
      ]
    },
    {
      "cell_type": "markdown",
      "metadata": {
        "id": "G0IwpCEyUT4h"
      },
      "source": [
        "For seniority constraint, we have\n",
        "$$\\sum_{i \\in S} X_{i, j} \\ge 1, \\ \\forall j$$\n",
        "Or for strictlier constraint, we can say\n",
        "$$\\sum_{i \\in S} X_{i, j} = 1, \\ \\forall j$$"
      ]
    },
    {
      "cell_type": "code",
      "execution_count": 9,
      "metadata": {
        "id": "Bfkf7_qEUT4h"
      },
      "outputs": [],
      "source": [
        "for j in range(num_shifts):\n",
        "    solver.Add(sum(X[i, j] for i in S) == 1)"
      ]
    },
    {
      "cell_type": "markdown",
      "metadata": {
        "id": "1Yb8hcegUT4h"
      },
      "source": [
        "For evenly spread in shifts, notice that the department constraints inspires us to evenly spread employees by average shifts per department, we have\n",
        "$$\\text{lower}_i \\le \\sum_{j \\in \\text{shifts}}X[i, j] \\le \\text{upper}_i$$\n",
        "where $i$ ranges in sets of $D_1, D_2, D_3$ and $D_4$."
      ]
    },
    {
      "cell_type": "code",
      "execution_count": 10,
      "metadata": {
        "id": "ge1fP_JtUT4h"
      },
      "outputs": [],
      "source": [
        "# Calculate average shifts for each department\n",
        "average_shift_dept1 = round(num_shifts / len(D1))\n",
        "average_shift_dept2 = round(num_shifts / len(D2))\n",
        "average_shift_dept3 = round(num_shifts / len(D3))\n",
        "average_shift_dept4 = round(num_shifts / len(D4))\n",
        "\n",
        "# Add constraints to ensure fair shift distribution across departments\n",
        "for i in D1:\n",
        "    solver.Add(sum(X[i, j] for j in range(num_shifts)) >= average_shift_dept1)\n",
        "    solver.Add(sum(X[i, j] for j in range(num_shifts)) <= average_shift_dept1 + 1)\n",
        "\n",
        "for i in D2:\n",
        "    solver.Add(sum(X[i, j] for j in range(num_shifts)) >= average_shift_dept2 - 1)\n",
        "    solver.Add(sum(X[i, j] for j in range(num_shifts)) <= average_shift_dept2)\n",
        "\n",
        "for i in D3:\n",
        "    solver.Add(sum(X[i, j] for j in range(num_shifts)) >= average_shift_dept3 - 1)\n",
        "    solver.Add(sum(X[i, j] for j in range(num_shifts)) <= average_shift_dept3)\n",
        "\n",
        "for i in D4:\n",
        "    solver.Add(sum(X[i, j] for j in range(num_shifts)) >= average_shift_dept4 - 1)\n",
        "    solver.Add(sum(X[i, j] for j in range(num_shifts)) <= average_shift_dept4 + 1)"
      ]
    },
    {
      "cell_type": "markdown",
      "metadata": {
        "id": "nVQq_uJeUT4h"
      },
      "source": [
        "### iii. Side constraints"
      ]
    },
    {
      "cell_type": "markdown",
      "metadata": {
        "id": "7NlX6ZVlUT4h"
      },
      "source": [
        "This side constraint states that in a radius of $7$ days, an employee can only work for less than or equal to $1$ shift.\n",
        "$$\\sum_{k=j}^{j+7}X_{i, k} \\le 1, \\ j \\in [0, \\text{num\\_shifts} - 7], i \\in H$$"
      ]
    },
    {
      "cell_type": "code",
      "execution_count": 11,
      "metadata": {
        "id": "qPRHs7RmUT4h"
      },
      "outputs": [],
      "source": [
        "for i in range(num_hospital):\n",
        "    for j in range(0, num_shifts - 7):\n",
        "        solver.Add(sum(X[i, k] for k in range(j, j+7)) <= 1)"
      ]
    },
    {
      "cell_type": "markdown",
      "metadata": {
        "id": "E8mDJt2FUT4h"
      },
      "source": [
        "This constraint aims to evenly spread the total for to each shift, including this constraint slows down the process.\n",
        "$$\\text{score}_l \\le \\sum_{i\\in H}X_{i, j} \\le \\text{score}_u, \\ \\forall i \\in \\text{shifts}$$"
      ]
    },
    {
      "cell_type": "code",
      "execution_count": 12,
      "metadata": {
        "id": "998XTFmIUT4h"
      },
      "outputs": [],
      "source": [
        "for j in range(num_shifts):\n",
        "    solver.Add(sum(X[i, j] * hospital[i][1] for i in range(num_hospital)) >= 40)\n",
        "    solver.Add(sum(X[i, j] * hospital[i][1] for i in range(num_hospital)) <= 46)"
      ]
    },
    {
      "cell_type": "markdown",
      "metadata": {
        "id": "OKNkyHL4UT4h"
      },
      "source": [
        "## B. Loss Function"
      ]
    },
    {
      "cell_type": "code",
      "execution_count": 13,
      "metadata": {
        "id": "nZ7IgMcVUT4h"
      },
      "outputs": [],
      "source": [
        "# Calculate losses for each department\n",
        "loss1 = sum(sum(X[i, j] for j in range(num_shifts)) for i in D1)\n",
        "loss2 = sum(sum(X[i, j] for j in range(num_shifts)) for i in D2)\n",
        "loss3 = sum(sum(X[i, j] for j in range(num_shifts)) for i in D3)\n",
        "loss4 = sum(sum(X[i, j] for j in range(num_shifts)) for i in D4)\n",
        "\n",
        "# Calculate losses for senior and non-senior staff in department Clinical\n",
        "lossA = sum(sum(X[i, j] for j in range(num_shifts)) for i in D4 if i in S)\n",
        "lossB = sum(sum(X[i, j] for j in range(num_shifts)) for i in D4 if i not in S)"
      ]
    },
    {
      "cell_type": "markdown",
      "metadata": {
        "id": "ne2noMpdUT4h"
      },
      "source": [
        "This problem can be solve without a loss function, since it is a scheduling problem. But, as we see in all constraints, we aim to optimize the constraint about evenly spreaded days. This inspires us to use this as the loss function. The objective is to maximize the following value\n",
        "$$\\textbf{Sat} = \\sum_{x\\in{1, 2, 3, 4}}w_x\\left(\\sum_{i \\in D_x}\\sum_{j \\in \\text{shifts}}X_{i, j}\\right)$$\n",
        "Where $w_x$ are coefficients which we decide via practice."
      ]
    },
    {
      "cell_type": "code",
      "execution_count": 14,
      "metadata": {
        "id": "A6pSXQtoUT4h"
      },
      "outputs": [],
      "source": [
        "if model == 'strict':\n",
        "    solver.Minimize(lossB - lossA)"
      ]
    },
    {
      "cell_type": "markdown",
      "metadata": {
        "id": "OlhPEbRTUT4i"
      },
      "source": [
        "And in case we opt to harmonize total of department and fair distribution, we can modify our loss function as"
      ]
    },
    {
      "cell_type": "code",
      "execution_count": 15,
      "metadata": {
        "id": "aWOeg4_jUT4i"
      },
      "outputs": [],
      "source": [
        "if model == 'regulated':\n",
        "    solver.Maximize(9 * loss1 + 18 * loss2 + 16 * loss3 + 4 * loss4)"
      ]
    },
    {
      "cell_type": "markdown",
      "metadata": {
        "id": "MTbuRy88UT4n"
      },
      "source": [
        "# IV. Evaluation"
      ]
    },
    {
      "cell_type": "code",
      "execution_count": 16,
      "metadata": {
        "colab": {
          "base_uri": "https://localhost:8080/"
        },
        "id": "FzF995BiUT4n",
        "outputId": "dddc22f8-d2f9-4f76-ffe4-c2a6bf98eb20"
      },
      "outputs": [],
      "source": [
        "solution = cp_model.CpSolver()\n",
        "status = solution.Solve(solver)"
      ]
    },
    {
      "cell_type": "code",
      "execution_count": 17,
      "metadata": {
        "colab": {
          "base_uri": "https://localhost:8080/"
        },
        "id": "iJmLHN2-UT4n",
        "outputId": "78cfe907-a671-4438-e1c6-5e6c7e8b768f"
      },
      "outputs": [
        {
          "name": "stdout",
          "output_type": "stream",
          "text": [
            "Objective value:  13.0\n",
            "Solution found:\n",
            "Shift 1: {'Tier I': 'Hường', 'Tier II': 'Xuân', 'Nurse 1': 'Hoài', 'Nurse 2': 'Oanh'}\n",
            "Shift 2: {'Tier I': 'Thư', 'Tier II': 'Hương', 'Nurse 1': 'Nam', 'Nurse 2': 'Ngọc '}\n",
            "Shift 3: {'Tier I': 'Thuỷ', 'Tier II': 'Hà', 'Nurse 1': 'Tiến', 'Nurse 2': 'Văn Đức'}\n",
            "Shift 4: {'Tier I': 'Tuấn', 'Tier II': 'Dũng', 'Nurse 1': 'Tuyến', 'Nurse 2': 'Hưng'}\n",
            "Shift 5: {'Tier I': 'Xuân', 'Tier II': 'Dung', 'Nurse 1': 'Tơ', 'Nurse 2': 'Huệ'}\n",
            "Shift 6: {'Tier I': 'Quân', 'Tier II': 'Gấm', 'Nurse 1': 'Dũng', 'Nurse 2': 'Thành'}\n",
            "Shift 7: {'Tier I': 'Sơn', 'Tier II': 'Vân Anh', 'Nurse 1': 'Tú', 'Nurse 2': 'Hương'}\n",
            "Shift 8: {'Tier I': 'Ngân Hà', 'Tier II': 'Hưng', 'Nurse 1': 'Phi', 'Nurse 2': 'Đông'}\n",
            "Shift 9: {'Tier I': 'Linh', 'Tier II': 'Xuân', 'Nurse 1': 'Linh', 'Nurse 2': 'Lương'}\n",
            "Shift 10: {'Tier I': 'Thư', 'Tier II': 'Linh', 'Nurse 1': 'Văn Đức', 'Nurse 2': 'Dung'}\n",
            "Shift 11: {'Tier I': 'Hường', 'Tier II': 'Hương', 'Nurse 1': 'Thu', 'Nurse 2': 'Thảo'}\n",
            "Shift 12: {'Tier I': 'Bắc', 'Tier II': 'Hà', 'Nurse 1': 'Tuyến', 'Nurse 2': 'Thông'}\n",
            "Shift 13: {'Tier I': 'Giang', 'Tier II': 'Phượng', 'Nurse 1': 'Huệ', 'Nurse 2': 'Long'}\n",
            "Shift 14: {'Tier I': 'Bá Tuấn', 'Tier II': 'Út', 'Nurse 1': 'Dương', 'Nurse 2': 'Chí Đức'}\n",
            "Shift 15: {'Tier I': 'Trang', 'Tier II': 'Minh Phương', 'Nurse 1': 'An', 'Nurse 2': 'Len'}\n",
            "Shift 16: {'Tier I': 'Điệp', 'Tier II': 'Thắng', 'Nurse 1': 'Nam', 'Nurse 2': 'Chung'}\n",
            "Shift 17: {'Tier I': 'Sơn', 'Tier II': 'Thuận', 'Nurse 1': 'Dung', 'Nurse 2': 'Thành'}\n",
            "Shift 18: {'Tier I': 'Thương', 'Tier II': 'Vân Anh', 'Nurse 1': 'Tiến', 'Nurse 2': 'Thu Hằng'}\n",
            "Shift 19: {'Tier I': 'Hường', 'Tier II': 'Dung', 'Nurse 1': 'Tú', 'Nurse 2': 'Lương'}\n",
            "Shift 20: {'Tier I': 'Xuân', 'Tier II': 'Tâm', 'Nurse 1': 'Huệ', 'Nurse 2': 'Anh'}\n",
            "Shift 21: {'Tier I': 'Bằng', 'Tier II': 'Phượng', 'Nurse 1': 'Dương', 'Nurse 2': 'Khánh Linh'}\n",
            "Shift 22: {'Tier I': 'Tuấn', 'Tier II': 'Minh Phương', 'Nurse 1': 'Tơ', 'Nurse 2': 'Quỳnh'}\n",
            "Shift 23: {'Tier I': 'Bá Tuấn', 'Tier II': 'Dũng', 'Nurse 1': 'Dũng', 'Nurse 2': 'Thông'}\n",
            "Shift 24: {'Tier I': 'Thanh Hà', 'Tier II': 'Hà', 'Nurse 1': 'Huyền', 'Nurse 2': 'Ngọc '}\n",
            "Shift 25: {'Tier I': 'Giang', 'Tier II': 'Hùng', 'Nurse 1': 'Tuyến', 'Nurse 2': 'Hoài'}\n",
            "Shift 26: {'Tier I': 'Linh', 'Tier II': 'Hưng', 'Nurse 1': 'Sang', 'Nurse 2': 'Ngân'}\n",
            "Shift 27: {'Tier I': 'Sơn', 'Tier II': 'Linh', 'Nurse 1': 'Anh', 'Nurse 2': 'Long'}\n",
            "Shift 28: {'Tier I': 'Hường', 'Tier II': 'Gấm', 'Nurse 1': 'Minh', 'Nurse 2': 'Vượng'}\n",
            "Shift 29: {'Tier I': 'Ngân Hà', 'Tier II': 'Xuân', 'Nurse 1': 'An', 'Nurse 2': 'Khánh Linh'}\n",
            "Shift 30: {'Tier I': 'Thư', 'Tier II': 'Phượng', 'Nurse 1': 'Thảo', 'Nurse 2': 'Thu'}\n",
            "Shift 31: {'Tier I': 'Thương', 'Tier II': 'Minh Phương', 'Nurse 1': 'Huệ', 'Nurse 2': 'Ngọc '}\n",
            "Shift 32: {'Tier I': 'Tuấn', 'Tier II': 'Út', 'Nurse 1': 'Huyền', 'Nurse 2': 'Kim Anh'}\n",
            "Shift 33: {'Tier I': 'Trang', 'Tier II': 'Thắng', 'Nurse 1': 'Phi', 'Nurse 2': 'Chi'}\n",
            "Shift 34: {'Tier I': 'Thuỷ', 'Tier II': 'Hương', 'Nurse 1': 'Linh', 'Nurse 2': 'Tú'}\n",
            "Shift 35: {'Tier I': 'Bằng', 'Tier II': 'Giang', 'Nurse 1': 'Tiến', 'Nurse 2': 'Len'}\n",
            "Shift 36: {'Tier I': 'Bá Tuấn', 'Tier II': 'Thuận', 'Nurse 1': 'Dũng', 'Nurse 2': 'Quỳnh'}\n",
            "Shift 37: {'Tier I': 'Bắc', 'Tier II': 'Xuân', 'Nurse 1': 'Dương', 'Nurse 2': 'Công'}\n",
            "Shift 38: {'Tier I': 'Linh', 'Tier II': 'Hùng', 'Nurse 1': 'Tuyến', 'Nurse 2': 'Ngân'}\n",
            "Shift 39: {'Tier I': 'Tâm', 'Tier II': 'Linh', 'Nurse 1': 'Tơ', 'Nurse 2': 'Anh'}\n",
            "Shift 40: {'Tier I': 'Quân', 'Tier II': 'Thắng', 'Nurse 1': 'Hoài', 'Nurse 2': 'Huyền'}\n",
            "Shift 41: {'Tier I': 'Long', 'Tier II': 'Hưng', 'Nurse 1': 'Nam', 'Nurse 2': 'Thu'}\n",
            "Shift 42: {'Tier I': 'Thanh Hà', 'Tier II': 'Hà', 'Nurse 1': 'Huyền', 'Nurse 2': 'Khánh Linh'}\n",
            "Shift 43: {'Tier I': 'Xuân', 'Tier II': 'Dung', 'Nurse 1': 'An', 'Nurse 2': 'Thu'}\n",
            "Shift 44: {'Tier I': 'Sơn', 'Tier II': 'Út', 'Nurse 1': 'Yên', 'Nurse 2': 'Chi'}\n",
            "Shift 45: {'Tier I': 'Thư', 'Tier II': 'Tâm', 'Nurse 1': 'Công', 'Nurse 2': 'Sang'}\n",
            "Shift 46: {'Tier I': 'Thương', 'Tier II': 'Vân Anh', 'Nurse 1': 'Tuyến', 'Nurse 2': 'Đông'}\n",
            "Shift 47: {'Tier I': 'Bằng', 'Tier II': 'Giang', 'Nurse 1': 'Linh', 'Nurse 2': 'Oanh'}\n",
            "Shift 48: {'Tier I': 'Tâm', 'Tier II': 'Thắng', 'Nurse 1': 'Huệ', 'Nurse 2': 'Hương'}\n",
            "Shift 49: {'Tier I': 'Điệp', 'Tier II': 'Thuận', 'Nurse 1': 'Huyền', 'Nurse 2': 'Chung'}\n",
            "Shift 50: {'Tier I': 'Hường', 'Tier II': 'Hương', 'Nurse 1': 'Thông', 'Nurse 2': 'Thảo'}\n",
            "Shift 51: {'Tier I': 'Long', 'Tier II': 'Linh', 'Nurse 1': 'Tiến', 'Nurse 2': 'Văn Đức'}\n",
            "Shift 52: {'Tier I': 'Thanh Hà', 'Tier II': 'Tâm', 'Nurse 1': 'Tơ', 'Nurse 2': 'Phi'}\n",
            "Shift 53: {'Tier I': 'Ngân Hà', 'Tier II': 'Hùng', 'Nurse 1': 'Huệ', 'Nurse 2': 'Huyền'}\n",
            "Shift 54: {'Tier I': 'Trang', 'Tier II': 'Dũng', 'Nurse 1': 'Dũng', 'Nurse 2': 'Vượng'}\n",
            "Shift 55: {'Tier I': 'Bằng', 'Tier II': 'Gấm', 'Nurse 1': 'An', 'Nurse 2': 'Minh'}\n",
            "Shift 56: {'Tier I': 'Bá Tuấn', 'Tier II': 'Hưng', 'Nurse 1': 'Huệ', 'Nurse 2': 'Quỳnh'}\n",
            "Shift 57: {'Tier I': 'Thư', 'Tier II': 'Giang', 'Nurse 1': 'Sang', 'Nurse 2': 'Kim Anh'}\n",
            "Shift 58: {'Tier I': 'Bắc', 'Tier II': 'Minh Phương', 'Nurse 1': 'Linh', 'Nurse 2': 'Thu'}\n",
            "Shift 59: {'Tier I': 'Thuỷ', 'Tier II': 'Thắng', 'Nurse 1': 'Chí Đức', 'Nurse 2': 'Thu Hằng'}\n",
            "Shift 60: {'Tier I': 'Tâm', 'Tier II': 'Tâm', 'Nurse 1': 'Dương', 'Nurse 2': 'Công'}\n",
            "Shift 61: {'Tier I': 'Long', 'Tier II': 'Hưng', 'Nurse 1': 'Yên', 'Nurse 2': 'Hưng'}\n"
          ]
        }
      ],
      "source": [
        "schedule = []\n",
        "if status == cp_model.OPTIMAL:\n",
        "    print('Objective value: ', solution.ObjectiveValue())\n",
        "    print('Solution found:')\n",
        "\n",
        "    for j in range(num_shifts):\n",
        "        shift = {\"Tier I\": None, \"Tier II\": None, \"Nurse 1\": None, \"Nurse 2\": None}\n",
        "        nurses_count = 0\n",
        "        for i in range(num_hospital):\n",
        "            if solution.Value(X[i, j]) == 1:\n",
        "                staff_type = hospital[i][3]\n",
        "                staff_name = hospital[i][0]\n",
        "                \n",
        "                # Assign staff to the appropriate role\n",
        "                if staff_type == 1:\n",
        "                    shift[\"Tier I\"] = staff_name\n",
        "                elif staff_type == 2:\n",
        "                    shift[\"Tier II\"] = staff_name\n",
        "                else:\n",
        "                    if nurses_count == 0:\n",
        "                        shift[\"Nurse 1\"] = staff_name\n",
        "                        nurses_count += 1\n",
        "                    else:\n",
        "                        shift[\"Nurse 2\"] = staff_name\n",
        "\n",
        "        schedule.append(shift)\n",
        "\n",
        "    # Display the schedule\n",
        "    for idx, shift in enumerate(schedule):\n",
        "        print(f\"Shift {idx + 1}: {shift}\")\n",
        "else:\n",
        "    print('No optimal solution found.')"
      ]
    },
    {
      "cell_type": "markdown",
      "metadata": {},
      "source": [
        "We evaluate the result by the following objectives:\n",
        "1. Number of hard constraints violated.\n",
        "2. Average Department Diversity per Shift.\n",
        "3. Seniority Inclusion Percentage.\n",
        "4. Standard Deviation of Shifts per Person (Fair Distribution), which is evaluated via every person and in each departments."
      ]
    },
    {
      "cell_type": "code",
      "execution_count": 18,
      "metadata": {
        "id": "wOfgifhXUT4n"
      },
      "outputs": [],
      "source": [
        "def evaluate_schedule(schedule, hospital, seniority_threshold):\n",
        "    # Initialize counters and lists\n",
        "    hard_constraint_violations = 0\n",
        "    department_diversity_counts = []\n",
        "    seniority_inclusion_count = 0\n",
        "\n",
        "    tier_i_doctors = [doc for doc in hospital if doc[3] == 1]\n",
        "    tier_ii_doctors = [doc for doc in hospital if doc[3] == 2]\n",
        "    nurses = [doc for doc in hospital if doc[3] == 3]\n",
        "\n",
        "    # Evaluate each shift\n",
        "    for shift in schedule:\n",
        "        departments_present = set()\n",
        "        senior_member_present = False\n",
        "\n",
        "        # Check Tier I doctor\n",
        "        if shift[\"Tier I\"] is None:\n",
        "            hard_constraint_violations += 1\n",
        "        else:\n",
        "            for doc in tier_i_doctors:\n",
        "                if doc[0] == shift[\"Tier I\"]:\n",
        "                    departments_present.add(doc[2])\n",
        "                    if doc[1] >= seniority_threshold:\n",
        "                        senior_member_present = True\n",
        "\n",
        "        # Check Tier II doctor\n",
        "        if shift[\"Tier II\"] is None:\n",
        "            hard_constraint_violations += 1\n",
        "        else:\n",
        "            for doc in tier_ii_doctors:\n",
        "                if doc[0] == shift[\"Tier II\"]:\n",
        "                    departments_present.add(doc[2])\n",
        "                    if doc[1] >= seniority_threshold:\n",
        "                        senior_member_present = True\n",
        "\n",
        "        # Check nurses\n",
        "        if shift[\"Nurse 1\"] is None or shift[\"Nurse 2\"] is None:\n",
        "            hard_constraint_violations += 1\n",
        "        else:\n",
        "            for nurse in nurses:\n",
        "                if nurse[0] == shift[\"Nurse 1\"] or nurse[0] == shift[\"Nurse 2\"]:\n",
        "                    departments_present.add(nurse[2])\n",
        "                    if nurse[1] >= seniority_threshold:\n",
        "                        senior_member_present = True\n",
        "\n",
        "        # Record department diversity count\n",
        "        department_diversity_counts.append(len(departments_present))\n",
        "\n",
        "        # Record seniority inclusion\n",
        "        if senior_member_present:\n",
        "            seniority_inclusion_count += 1\n",
        "\n",
        "    # Evaluate standard deviation of shifts per person\n",
        "    person_shifts = [sum(solution.Value(X[i, j]) for j in range(num_shifts)) for i in range(num_hospital)]\n",
        "    dept_1_shifts = [sum(solution.Value(X[i, j]) for j in range(num_shifts)) for i in D1]\n",
        "    dept_2_shifts = [sum(solution.Value(X[i, j]) for j in range(num_shifts)) for i in D2]\n",
        "    dept_3_shifts = [sum(solution.Value(X[i, j]) for j in range(num_shifts)) for i in D3]\n",
        "    dept_4_shifts = [sum(solution.Value(X[i, j]) for j in range(num_shifts)) for i in D4]\n",
        "\n",
        "    average_shifts_per_person = sum(person_shifts) / len(person_shifts)\n",
        "    average_shifts_dept_1 = sum(dept_1_shifts) / len(dept_1_shifts)\n",
        "    average_shifts_dept_2 = sum(dept_2_shifts) / len(dept_2_shifts)\n",
        "    average_shifts_dept_3 = sum(dept_3_shifts) / len(dept_3_shifts)\n",
        "    average_shifts_dept_4 = sum(dept_4_shifts) / len(dept_4_shifts)\n",
        "\n",
        "    # Calculate metrics\n",
        "    average_department_diversity = sum(department_diversity_counts) / num_shifts\n",
        "    seniority_inclusion_percentage = (seniority_inclusion_count / num_shifts) * 100\n",
        "    fair_distribution_std_dev = (sum([(x - average_shifts_per_person) ** 2 for x in person_shifts]) / len(person_shifts)) ** 0.5\n",
        "    fair_distribution_dept1 = (sum([(x - average_shifts_dept_1) ** 2 for x in dept_1_shifts]) / len(dept_1_shifts)) ** 0.5\n",
        "    fair_distribution_dept2 = (sum([(x - average_shifts_dept_2) ** 2 for x in dept_2_shifts]) / len(dept_2_shifts)) ** 0.5\n",
        "    fair_distribution_dept3 = (sum([(x - average_shifts_dept_3) ** 2 for x in dept_3_shifts]) / len(dept_3_shifts)) ** 0.5\n",
        "    fair_distribution_dept4 = (sum([(x - average_shifts_dept_4) ** 2 for x in dept_4_shifts]) / len(dept_4_shifts)) ** 0.5\n",
        "\n",
        "    # Print evaluation results\n",
        "    print(f\"Hard Constraint Violations: {hard_constraint_violations}\")\n",
        "    print(f\"Average Department Diversity per Shift: {average_department_diversity}\")\n",
        "    print(f\"Seniority Inclusion Percentage: {seniority_inclusion_percentage}%\")\n",
        "    print(f\"Standard Deviation of Shifts per Person (Fair Distribution): {fair_distribution_std_dev}\")\n",
        "    print(f\"By departments: Internal: {fair_distribution_dept1}, External: {fair_distribution_dept2}, Emergency: {fair_distribution_dept3}, Clinical: {fair_distribution_dept4}\")"
      ]
    },
    {
      "cell_type": "code",
      "execution_count": 19,
      "metadata": {
        "colab": {
          "base_uri": "https://localhost:8080/"
        },
        "id": "afqys5ODUT4n",
        "outputId": "d6271a22-bd2e-4267-cefc-ea219a50ab03"
      },
      "outputs": [
        {
          "name": "stdout",
          "output_type": "stream",
          "text": [
            "Hard Constraint Violations: 0\n",
            "Average Department Diversity per Shift: 4.0\n",
            "Seniority Inclusion Percentage: 100.0%\n",
            "Standard Deviation of Shifts per Person (Fair Distribution): 0.8645808232895293\n",
            "By departments: Internal: 0.479157423749955, External: 0.29354352395090366, Emergency: 0.476280484787101, Clinical: 0.950206589107585\n"
          ]
        }
      ],
      "source": [
        "evaluate_schedule(schedule, hospital, senior_threshold)"
      ]
    }
  ],
  "metadata": {
    "colab": {
      "provenance": []
    },
    "kernelspec": {
      "display_name": "Python 3",
      "language": "python",
      "name": "python3"
    },
    "language_info": {
      "codemirror_mode": {
        "name": "ipython",
        "version": 3
      },
      "file_extension": ".py",
      "mimetype": "text/x-python",
      "name": "python",
      "nbconvert_exporter": "python",
      "pygments_lexer": "ipython3",
      "version": "3.11.4"
    }
  },
  "nbformat": 4,
  "nbformat_minor": 0
}
